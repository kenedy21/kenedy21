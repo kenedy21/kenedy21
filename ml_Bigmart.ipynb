{
  "nbformat": 4,
  "nbformat_minor": 0,
  "metadata": {
    "colab": {
      "provenance": [],
      "collapsed_sections": [],
      "authorship_tag": "ABX9TyNDMnKg97atY/x2CdRTvCEf",
      "include_colab_link": true
    },
    "kernelspec": {
      "name": "python3",
      "display_name": "Python 3"
    },
    "language_info": {
      "name": "python"
    }
  },
  "cells": [
    {
      "cell_type": "markdown",
      "metadata": {
        "id": "view-in-github",
        "colab_type": "text"
      },
      "source": [
        "<a href=\"https://colab.research.google.com/github/kenedy21/kenedy21/blob/ml_tutorial/ml_Bigmart.ipynb\" target=\"_parent\"><img src=\"https://colab.research.google.com/assets/colab-badge.svg\" alt=\"Open In Colab\"/></a>"
      ]
    },
    {
      "cell_type": "code",
      "execution_count": null,
      "metadata": {
        "id": "4xUNUa1cu0fJ"
      },
      "outputs": [],
      "source": []
    },
    {
      "cell_type": "code",
      "source": [
        "import pandas as pd\n",
        "import numpy as np\n",
        "import matplotlib.pyplot as plt\n",
        "from sklearn.preprocessing import LabelEncoder\n",
        "from sklearn.linear_model import LinearRegression\n",
        "from sklearn.metrics  import r2_score,mean_squared_error"
      ],
      "metadata": {
        "id": "qacPwPG11bWE"
      },
      "execution_count": null,
      "outputs": []
    },
    {
      "cell_type": "code",
      "source": [
        "##load data\n",
        "traind = pd.read_csv('Train.csv')\n",
        "testd= pd.read_csv('Test.csv')"
      ],
      "metadata": {
        "id": "ffHOlr4J2QVM"
      },
      "execution_count": null,
      "outputs": []
    },
    {
      "cell_type": "code",
      "source": [
        "## check rows and columns\n",
        "traind.shape,testd.shape"
      ],
      "metadata": {
        "id": "BcJqeNOK3oWo"
      },
      "execution_count": null,
      "outputs": []
    },
    {
      "cell_type": "code",
      "source": [
        "traind.columns"
      ],
      "metadata": {
        "id": "FxNqlKfg23EM"
      },
      "execution_count": null,
      "outputs": []
    },
    {
      "cell_type": "code",
      "source": [
        "#merge datasets to perform eda\n",
        "traind['source'] = 'train'\n",
        "testd['source'] = 'test'\n",
        "data = pd.concat([traind,testd],ignore_index=True)"
      ],
      "metadata": {
        "id": "4WcT0CId4m_7"
      },
      "execution_count": 5,
      "outputs": []
    },
    {
      "cell_type": "code",
      "source": [
        "data "
      ],
      "metadata": {
        "id": "22aL8xha5qj8"
      },
      "execution_count": null,
      "outputs": []
    },
    {
      "cell_type": "code",
      "source": [
        "## summary of data\n",
        "data.describe()"
      ],
      "metadata": {
        "id": "vgK0Ld4j9hYP"
      },
      "execution_count": null,
      "outputs": []
    },
    {
      "cell_type": "code",
      "source": [
        "## check missing values\n",
        "data.isnull().sum()"
      ],
      "metadata": {
        "id": "u6FDrf0y9tAB"
      },
      "execution_count": null,
      "outputs": []
    },
    {
      "cell_type": "code",
      "source": [
        "## all columns\n",
        "data.columns"
      ],
      "metadata": {
        "id": "6JJ6BGbK-hHS"
      },
      "execution_count": null,
      "outputs": []
    },
    {
      "cell_type": "markdown",
      "source": [
        "Print unique values in columns"
      ],
      "metadata": {
        "id": "lRP1R5z8ApEy"
      }
    },
    {
      "cell_type": "code",
      "source": [
        "data['Item_Fat_Content'].unique()"
      ],
      "metadata": {
        "colab": {
          "base_uri": "https://localhost:8080/"
        },
        "id": "-qqQ3nlO-IR5",
        "outputId": "c1001113-e65f-4f3b-9ce4-1fa55a485124"
      },
      "execution_count": 10,
      "outputs": [
        {
          "data": {
            "text/plain": [
              "array(['Low Fat', 'Regular', 'low fat', 'LF', 'reg'], dtype=object)"
            ]
          },
          "execution_count": 10,
          "metadata": {},
          "output_type": "execute_result"
        }
      ]
    },
    {
      "cell_type": "code",
      "source": [
        "data['Outlet_Establishment_Year'].unique()"
      ],
      "metadata": {
        "colab": {
          "base_uri": "https://localhost:8080/"
        },
        "id": "964Q7pGn_FAQ",
        "outputId": "9f7e45ca-eb4d-4c75-e962-8069eac70641"
      },
      "execution_count": 11,
      "outputs": [
        {
          "data": {
            "text/plain": [
              "array([1999, 2009, 1998, 1987, 1985, 2002, 2007, 1997, 2004])"
            ]
          },
          "execution_count": 11,
          "metadata": {},
          "output_type": "execute_result"
        }
      ]
    },
    {
      "cell_type": "code",
      "source": [
        "data['Outlet_Size'].unique()"
      ],
      "metadata": {
        "colab": {
          "base_uri": "https://localhost:8080/"
        },
        "id": "urx_ijIhAcbk",
        "outputId": "62c041d1-1334-4c32-a7d4-2a6a0137701d"
      },
      "execution_count": 12,
      "outputs": [
        {
          "data": {
            "text/plain": [
              "array(['Medium', nan, 'High', 'Small'], dtype=object)"
            ]
          },
          "execution_count": 12,
          "metadata": {},
          "output_type": "execute_result"
        }
      ]
    },
    {
      "cell_type": "code",
      "source": [
        "data['outlet_age'] = 2022 - data['Outlet_Establishment_Year']\n",
        "                                 "
      ],
      "metadata": {
        "id": "Fzt585o4_O_V"
      },
      "execution_count": 13,
      "outputs": []
    },
    {
      "cell_type": "markdown",
      "source": [
        "print count values"
      ],
      "metadata": {
        "id": "doh-3AmGA_8g"
      }
    },
    {
      "cell_type": "code",
      "source": [
        "data['Item_Fat_Content'].count()"
      ],
      "metadata": {
        "colab": {
          "base_uri": "https://localhost:8080/"
        },
        "id": "bssSo1RrBERq",
        "outputId": "eaa65194-bb74-44c8-a3aa-4695645c5cda"
      },
      "execution_count": 14,
      "outputs": [
        {
          "data": {
            "text/plain": [
              "14204"
            ]
          },
          "execution_count": 14,
          "metadata": {},
          "output_type": "execute_result"
        }
      ]
    },
    {
      "cell_type": "code",
      "source": [
        "data['Outlet_Size'].count()"
      ],
      "metadata": {
        "colab": {
          "base_uri": "https://localhost:8080/"
        },
        "id": "Yw-kO2EIBjuz",
        "outputId": "7f4f439d-a992-44f6-c3ab-455c1380d3de"
      },
      "execution_count": 15,
      "outputs": [
        {
          "data": {
            "text/plain": [
              "10188"
            ]
          },
          "execution_count": 15,
          "metadata": {},
          "output_type": "execute_result"
        }
      ]
    },
    {
      "cell_type": "code",
      "source": [
        "## mode in outlet size\n",
        "data['Outlet_Size'].mode()[0]"
      ],
      "metadata": {
        "colab": {
          "base_uri": "https://localhost:8080/",
          "height": 35
        },
        "id": "8DAO9FKNBwoH",
        "outputId": "6f5bc986-84e1-4da6-eba1-61f7f8f60641"
      },
      "execution_count": 16,
      "outputs": [
        {
          "data": {
            "application/vnd.google.colaboratory.intrinsic+json": {
              "type": "string"
            },
            "text/plain": [
              "'Medium'"
            ]
          },
          "execution_count": 16,
          "metadata": {},
          "output_type": "execute_result"
        }
      ]
    },
    {
      "cell_type": "markdown",
      "source": [
        "Replace missing values"
      ],
      "metadata": {
        "id": "kHzFAQXrCZ4P"
      }
    },
    {
      "cell_type": "code",
      "source": [
        "data['Outlet_Size'] = data['Outlet_Size'].fillna(data['Outlet_Size'].mode()[0])"
      ],
      "metadata": {
        "id": "eQsN3habCXnj"
      },
      "execution_count": 17,
      "outputs": []
    },
    {
      "cell_type": "code",
      "source": [
        "data['Item_Weight'] = data['Item_Weight'].fillna(data['Item_Weight'].mean())"
      ],
      "metadata": {
        "id": "PC5CQcCkDetn"
      },
      "execution_count": 18,
      "outputs": []
    },
    {
      "cell_type": "markdown",
      "source": [
        "plotting"
      ],
      "metadata": {
        "id": "zA7S8gDqEcoI"
      }
    },
    {
      "cell_type": "code",
      "source": [
        "data['Item_Visibility'].hist(bins=10)"
      ],
      "metadata": {
        "id": "eAgB4_PcEez5"
      },
      "execution_count": null,
      "outputs": []
    },
    {
      "cell_type": "markdown",
      "source": [
        "Detect outliers"
      ],
      "metadata": {
        "id": "h0aWNq9LE2Is"
      }
    },
    {
      "cell_type": "code",
      "source": [
        "## calculate first and second quartile \n",
        "Q1 = data['Item_Visibility'].quantile(0.25)\n",
        "Q3 = data['Item_Visibility'].quantile(0.75)"
      ],
      "metadata": {
        "id": "D4sbwJTLE5Va"
      },
      "execution_count": 20,
      "outputs": []
    },
    {
      "cell_type": "code",
      "source": [
        "## calculate inter_quantile_range iqr\n",
        "IQR = Q3 - Q1"
      ],
      "metadata": {
        "id": "Ot15Bb9mGY4p"
      },
      "execution_count": 21,
      "outputs": []
    },
    {
      "cell_type": "code",
      "source": [
        "##Remove outlier and store in fill_data variable\n",
        "fill_data = data.query('(@Q1 - 1.5 * @IQR) <= Item_Visibility <= (@Q3 + 1.5 * @IQR)')"
      ],
      "metadata": {
        "id": "rrpKeIpEHLwU"
      },
      "execution_count": 22,
      "outputs": []
    },
    {
      "cell_type": "code",
      "source": [
        "fill_data"
      ],
      "metadata": {
        "id": "fqfXGqCAKSsh"
      },
      "execution_count": null,
      "outputs": []
    },
    {
      "cell_type": "code",
      "source": [
        "# modify Item_Visibility by converting into categories ; \n",
        "## low,visibility and high\n",
        "data['Item_Visibility_Bins'] = pd.cut(data['Item_Visibility'],[0.000,0.065,0.13,0.2],\n",
        "                                      labels = ['low_viz','Viz','High_Viz'])"
      ],
      "metadata": {
        "id": "vACJ_bsNKfFo"
      },
      "execution_count": 24,
      "outputs": []
    },
    {
      "cell_type": "code",
      "source": [
        "## count visibility bins\n",
        "data['Item_Visibility_Bins'].value_counts()"
      ],
      "metadata": {
        "id": "kRrFaoipMRmB"
      },
      "execution_count": null,
      "outputs": []
    },
    {
      "cell_type": "code",
      "source": [
        "## Replace null values with low visibility\n",
        "data['Item_Visibility_Bins'] = data['Item_Visibility_Bins'].replace(np.nan,'low viz',regex = True)"
      ],
      "metadata": {
        "id": "wO3-g0E7My0M"
      },
      "execution_count": 26,
      "outputs": []
    },
    {
      "cell_type": "code",
      "source": [
        "data['Item_Fat_Content'] = data['Item_Fat_Content'].replace(['low fat', 'LF'],'Low Fat')"
      ],
      "metadata": {
        "id": "pyaUpymdNx0t"
      },
      "execution_count": 27,
      "outputs": []
    },
    {
      "cell_type": "code",
      "source": [
        "data['Item_Fat_Content'] = data['Item_Fat_Content'].replace('reg','Regular')\n"
      ],
      "metadata": {
        "id": "fb0TF4YWOrDW"
      },
      "execution_count": 28,
      "outputs": []
    },
    {
      "cell_type": "code",
      "source": [
        "data['Item_Fat_Content'].unique()"
      ],
      "metadata": {
        "colab": {
          "base_uri": "https://localhost:8080/"
        },
        "id": "stGGavgRO5kB",
        "outputId": "6041d903-d7ae-4eac-fd05-3d1b71a86432"
      },
      "execution_count": 29,
      "outputs": [
        {
          "data": {
            "text/plain": [
              "array(['Low Fat', 'Regular'], dtype=object)"
            ]
          },
          "execution_count": 29,
          "metadata": {},
          "output_type": "execute_result"
        }
      ]
    },
    {
      "cell_type": "markdown",
      "source": [
        "Encode categorical values using label encoder"
      ],
      "metadata": {
        "id": "msa_l0CWPMwp"
      }
    },
    {
      "cell_type": "code",
      "source": [
        "le = LabelEncoder()\n"
      ],
      "metadata": {
        "id": "lL43uW7GPZYw"
      },
      "execution_count": 30,
      "outputs": []
    },
    {
      "cell_type": "code",
      "source": [
        "#transform item fat content\n",
        "data['Item_Fat_Content'] = le.fit_transform(data['Item_Fat_Content'])"
      ],
      "metadata": {
        "id": "oCIK5KbePkZZ"
      },
      "execution_count": 31,
      "outputs": []
    },
    {
      "cell_type": "code",
      "source": [
        "data['Item_Visibility_Bins'] = le.fit_transform(data['Item_Visibility_Bins'])"
      ],
      "metadata": {
        "id": "SFeMz-fcP85u"
      },
      "execution_count": 32,
      "outputs": []
    },
    {
      "cell_type": "code",
      "source": [
        "data['Outlet_Size'] = le.fit_transform(data['Outlet_Size'])"
      ],
      "metadata": {
        "id": "YlapLgL6Q0xG"
      },
      "execution_count": 33,
      "outputs": []
    },
    {
      "cell_type": "markdown",
      "source": [],
      "metadata": {
        "id": "PjZlgw0OQ9T3"
      }
    },
    {
      "cell_type": "code",
      "source": [
        "data['Outlet_Location_Type'] = le.fit_transform(data['Outlet_Location_Type'])\n"
      ],
      "metadata": {
        "id": "GMWsio8xQ__p"
      },
      "execution_count": 34,
      "outputs": []
    },
    {
      "cell_type": "code",
      "source": [
        "dummies = pd.get_dummies(data['Outlet_Type'])\n",
        "dummies.head()"
      ],
      "metadata": {
        "id": "QAHnnhWNTnNh"
      },
      "execution_count": null,
      "outputs": []
    },
    {
      "cell_type": "code",
      "source": [
        "data['Item_Identifier'].value_counts()"
      ],
      "metadata": {
        "id": "yollAwhQUyDC"
      },
      "execution_count": null,
      "outputs": []
    },
    {
      "cell_type": "code",
      "source": [
        "data['Item_Type_Combined'] = data['Item_Identifier'].apply(lambda x : x[0:2])"
      ],
      "metadata": {
        "id": "GzhsbeUHVVh8"
      },
      "execution_count": 37,
      "outputs": []
    },
    {
      "cell_type": "code",
      "source": [
        "data['Item_Type_Combined'] = data['Item_Type_Combined'].map({'FD':'Food',\n",
        "'NC': 'Non-consumable',\n",
        "'DR': 'Drinks'})"
      ],
      "metadata": {
        "id": "iaHp2PfLWhNR"
      },
      "execution_count": 38,
      "outputs": []
    },
    {
      "cell_type": "code",
      "source": [
        "data['Item_Type_Combined'].value_counts()"
      ],
      "metadata": {
        "id": "F6phS3UiZzJj"
      },
      "execution_count": null,
      "outputs": []
    },
    {
      "cell_type": "code",
      "source": [
        "data = pd.get_dummies(data, columns=['Item_Fat_Content','Outlet_Location_Type','Outlet_Size','Outlet_Type','Item_Type_Combined'])"
      ],
      "metadata": {
        "id": "BQt3JXgNasRf"
      },
      "execution_count": 40,
      "outputs": []
    },
    {
      "cell_type": "code",
      "source": [
        "data.columns"
      ],
      "metadata": {
        "id": "5NkhLsKdasih"
      },
      "execution_count": null,
      "outputs": []
    },
    {
      "cell_type": "code",
      "source": [
        "import warnings\n",
        "warnings.filterwarnings(\"ignore\")"
      ],
      "metadata": {
        "id": "1grz6FHJasvk"
      },
      "execution_count": 41,
      "outputs": []
    },
    {
      "cell_type": "code",
      "source": [
        "## drop coloumns that have been converted to other types\n",
        "data.drop(['Item_Type','Outlet_Establishment_Year'],axis=1,inplace=True)\n",
        "\n",
        "## divide data into train and test\n",
        "train = data.loc[data.source == 'train']\n",
        "test = data.loc[data['source'] == 'test']"
      ],
      "metadata": {
        "id": "eFQC4V2m12qV"
      },
      "execution_count": 59,
      "outputs": []
    },
    {
      "cell_type": "code",
      "source": [
        "## drop unnecessary columns\n",
        "test.drop(['Item_Outlet_Sales','source'], axis=1,inplace = True)\n",
        "train.drop(['source'],axis=1,inplace=True)"
      ],
      "metadata": {
        "id": "5oxyVFcD37kb"
      },
      "execution_count": 60,
      "outputs": []
    },
    {
      "cell_type": "code",
      "source": [
        "train.to_csv('train_modified.csv')\n",
        "test.to_csv('test_modified.csv')"
      ],
      "metadata": {
        "id": "YEz8MkU03F4X"
      },
      "execution_count": 61,
      "outputs": []
    },
    {
      "cell_type": "code",
      "source": [
        "trainm = pd.read_csv('train_modified.csv')\n",
        "testm = pd.read_csv('test_modified.csv')"
      ],
      "metadata": {
        "id": "ATiPbTwqVK5Z"
      },
      "execution_count": 62,
      "outputs": []
    },
    {
      "cell_type": "code",
      "source": [
        "trainm.dtypes"
      ],
      "metadata": {
        "id": "LKZ8kPs4WFsR"
      },
      "execution_count": null,
      "outputs": []
    },
    {
      "cell_type": "code",
      "source": [
        "## inindependent variable xtrain and depedent variable ytrain\n",
        "x_train = trainm.drop(['Item_Identifier', 'Outlet_Identifier','Item_Outlet_Sales'],axis=1)\n",
        "y_train = trainm.Item_Outlet_Sales"
      ],
      "metadata": {
        "id": "Uyv7koexW0OI"
      },
      "execution_count": 65,
      "outputs": []
    },
    {
      "cell_type": "code",
      "source": [
        "testm.dtypes"
      ],
      "metadata": {
        "id": "PCOh1TMsZMtN"
      },
      "execution_count": null,
      "outputs": []
    },
    {
      "cell_type": "code",
      "source": [
        "x_test = testm.drop(['Item_Identifier','Outlet_Identifier'],axis=1)\n"
      ],
      "metadata": {
        "id": "4Qe7hhvyZdGm"
      },
      "execution_count": 67,
      "outputs": []
    },
    {
      "cell_type": "code",
      "source": [
        "from sklearn import model_selection\n",
        "from sklearn.linear_model import LinearRegression"
      ],
      "metadata": {
        "id": "XkAM_D3caG2U"
      },
      "execution_count": 70,
      "outputs": []
    },
    {
      "cell_type": "code",
      "source": [
        "xtrain,xtest,ytrain,ytest = model_selection.train_test_split(x_train,y_train,test_size=0.2,random_state=42)"
      ],
      "metadata": {
        "id": "5j6E036ha_hs"
      },
      "execution_count": 71,
      "outputs": []
    },
    {
      "cell_type": "code",
      "source": [
        "model1 = LinearRegression()"
      ],
      "metadata": {
        "id": "wXYmp1bzapwD"
      },
      "execution_count": 69,
      "outputs": []
    },
    {
      "cell_type": "code",
      "source": [
        "model1.fit(xtrain,ytrain)"
      ],
      "metadata": {
        "colab": {
          "base_uri": "https://localhost:8080/"
        },
        "id": "syCv6i2NaqV9",
        "outputId": "318c8cd7-cea9-4289-e8a0-45e1a5986354"
      },
      "execution_count": 74,
      "outputs": [
        {
          "output_type": "execute_result",
          "data": {
            "text/plain": [
              "LinearRegression()"
            ]
          },
          "metadata": {},
          "execution_count": 74
        }
      ]
    },
    {
      "cell_type": "code",
      "source": [
        "model1.coef_, model1.intercept_"
      ],
      "metadata": {
        "id": "sp6lNP6YcBWY"
      },
      "execution_count": null,
      "outputs": []
    },
    {
      "cell_type": "code",
      "source": [
        "pred =model1.predict(xtest)"
      ],
      "metadata": {
        "id": "2tsdzqm6aqsI"
      },
      "execution_count": 78,
      "outputs": []
    },
    {
      "cell_type": "code",
      "source": [
        "## find RMSE for the model\n",
        "import math\n",
        "print(math.sqrt(mean_squared_error(ytest,pred)))"
      ],
      "metadata": {
        "colab": {
          "base_uri": "https://localhost:8080/"
        },
        "id": "xUVGUsxrcfri",
        "outputId": "ee5c0e7d-e99d-43ef-a4ca-decfc9ab2d69"
      },
      "execution_count": 81,
      "outputs": [
        {
          "output_type": "stream",
          "name": "stdout",
          "text": [
            "1067.7474977510958\n"
          ]
        }
      ]
    },
    {
      "cell_type": "code",
      "source": [
        "#predict column item outlet sales\n",
        "y_sales_pred = model1.predict(x_test)\n",
        "y_sales_pred"
      ],
      "metadata": {
        "colab": {
          "base_uri": "https://localhost:8080/"
        },
        "id": "iUyMxFmWdXq-",
        "outputId": "ba16db89-f93c-4cbb-cf7f-f9dcd0eeb2cb"
      },
      "execution_count": 83,
      "outputs": [
        {
          "output_type": "execute_result",
          "data": {
            "text/plain": [
              "array([1812.22238525, 1623.09689923, 1904.70509532, ..., 1909.90656537,\n",
              "       3639.94086652, 1341.16223205])"
            ]
          },
          "metadata": {},
          "execution_count": 83
        }
      ]
    },
    {
      "cell_type": "code",
      "source": [
        "test_predictions = pd.DataFrame({\n",
        "    'Item_Identifier': testm['Item_Identifier'],\n",
        "    'Outlet_Identfier': testm['Outlet_Identifier'],\n",
        "    'Item_Outlet_Sales': y_sales_pred,\n",
        "\n",
        "}, columns=['Item_Identifier','Outlet_Identifier','Item_Outlet_Sales'])"
      ],
      "metadata": {
        "id": "LSMu26frdX8v"
      },
      "execution_count": 86,
      "outputs": []
    },
    {
      "cell_type": "code",
      "source": [
        "test_predictions"
      ],
      "metadata": {
        "id": "jooDT0ksdYZ3"
      },
      "execution_count": null,
      "outputs": []
    }
  ]
}